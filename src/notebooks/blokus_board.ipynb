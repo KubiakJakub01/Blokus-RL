{
 "cells": [
  {
   "attachments": {},
   "cell_type": "markdown",
   "metadata": {},
   "source": [
    "# Notebook for testing the blokus board"
   ]
  },
  {
   "cell_type": "code",
   "execution_count": 2,
   "metadata": {},
   "outputs": [
    {
     "data": {
      "text/plain": [
       "<pyvirtualdisplay.display.Display at 0x7f1bb5fb5e80>"
      ]
     },
     "execution_count": 2,
     "metadata": {},
     "output_type": "execute_result"
    }
   ],
   "source": [
    "# Virtual display for rendering\n",
    "from pyvirtualdisplay import Display\n",
    "\n",
    "virtual_display = Display(visible=0, size=(1400, 900))\n",
    "virtual_display.start()"
   ]
  },
  {
   "cell_type": "code",
   "execution_count": 3,
   "metadata": {},
   "outputs": [],
   "source": [
    "# Imports libraries\n",
    "import gym"
   ]
  },
  {
   "cell_type": "code",
   "execution_count": 7,
   "metadata": {},
   "outputs": [
    {
     "name": "stdout",
     "output_type": "stream",
     "text": [
      "Is running cython version: False\n",
      "You should run 'python setup.py build_ext --inplace' to get a 3x speedup\n"
     ]
    }
   ],
   "source": [
    "# Create the environment\n",
    "env = gym.make(\"blokus_gym:blokus-simple-v0\")\n",
    "observation = env.reset()"
   ]
  },
  {
   "cell_type": "code",
   "execution_count": 9,
   "metadata": {},
   "outputs": [
    {
     "name": "stdout",
     "output_type": "stream",
     "text": [
      "Action taken: 800\n",
      "Action taken: 13\n",
      "Action taken: 150\n",
      "Environment is reset\n",
      "Action taken: 52\n",
      "Action taken: 855\n",
      "Action taken: 350\n",
      "Action taken: 180\n",
      "Action taken: 672\n",
      "Action taken: 7\n",
      "Environment is reset\n",
      "Action taken: 867\n",
      "Action taken: 172\n",
      "Action taken: 596\n",
      "Action taken: 243\n",
      "Action taken: 63\n",
      "Action taken: 21\n",
      "Environment is reset\n",
      "Action taken: 8\n",
      "Action taken: 234\n",
      "Action taken: 714\n",
      "Action taken: 92\n",
      "Environment is reset\n",
      "Action taken: 758\n"
     ]
    }
   ],
   "source": [
    "for _ in range(20):\n",
    "    # Take a random action\n",
    "    action = env.action_space.sample()\n",
    "    print(\"Action taken:\", action)\n",
    "\n",
    "    # Do this action in the environment and get\n",
    "    # next_state, reward, done and info\n",
    "    observation, reward, done, info = env.step(action)\n",
    "    \n",
    "    # Check if the game is done\n",
    "    if done:\n",
    "        # Reset the environment\n",
    "        print(\"Environment is reset\")\n",
    "        observation = env.reset()"
   ]
  },
  {
   "attachments": {},
   "cell_type": "markdown",
   "metadata": {},
   "source": [
    "## Check how the environment looks like"
   ]
  },
  {
   "cell_type": "code",
   "execution_count": 11,
   "metadata": {},
   "outputs": [
    {
     "name": "stdout",
     "output_type": "stream",
     "text": [
      "Is running cython version: False\n",
      "You should run 'python setup.py build_ext --inplace' to get a 3x speedup\n",
      "_____OBSERVATION SPACE_____ \n",
      "\n",
      "Observation Space Shape (7, 7)\n",
      "Sample observation \n",
      " [[2 0 0 0 0 0 1]\n",
      " [1 1 1 2 0 2 1]\n",
      " [1 1 2 1 1 2 1]\n",
      " [1 2 0 1 1 0 0]\n",
      " [1 2 0 1 2 1 1]\n",
      " [0 0 2 2 0 1 1]\n",
      " [0 2 0 0 1 0 0]]\n"
     ]
    }
   ],
   "source": [
    "env = gym.make(\"blokus_gym:blokus-simple-v0\")\n",
    "env.reset()\n",
    "print(\"_____OBSERVATION SPACE_____ \\n\")\n",
    "print(\"Observation Space Shape\", env.observation_space.shape)\n",
    "print(\"Sample observation \\n\", env.observation_space.sample()) # Get a random observation"
   ]
  },
  {
   "attachments": {},
   "cell_type": "markdown",
   "metadata": {},
   "source": [
    "## Action space"
   ]
  },
  {
   "cell_type": "code",
   "execution_count": 12,
   "metadata": {},
   "outputs": [
    {
     "name": "stdout",
     "output_type": "stream",
     "text": [
      "\n",
      " _____ACTION SPACE_____ \n",
      "\n",
      "Action Space Shape 919\n",
      "Action Space Sample 10\n"
     ]
    }
   ],
   "source": [
    "print(\"\\n _____ACTION SPACE_____ \\n\")\n",
    "print(\"Action Space Shape\", env.action_space.n)\n",
    "print(\"Action Space Sample\", env.action_space.sample()) # Take a random action"
   ]
  },
  {
   "attachments": {},
   "cell_type": "markdown",
   "metadata": {},
   "source": [
    "## Display the board"
   ]
  },
  {
   "cell_type": "code",
   "execution_count": 15,
   "metadata": {},
   "outputs": [
    {
     "data": {
      "image/png": "[encoded data removed]",
      "text/plain": [
       "<Figure size 640x480 with 1 Axes>"
      ]
     },
     "metadata": {},
     "output_type": "display_data"
    }
   ],
   "source": [
    "# display the board\n",
    "env.reset()\n",
    "env.render()"
   ]
  },
  {
   "cell_type": "code",
   "execution_count": null,
   "metadata": {},
   "outputs": [],
   "source": []
  }
 ],
 "metadata": {
  "kernelspec": {
   "display_name": "blokus",
   "language": "python",
   "name": "python3"
  },
  "language_info": {
   "codemirror_mode": {
    "name": "ipython",
    "version": 3
   },
   "file_extension": ".py",
   "mimetype": "text/x-python",
   "name": "python",
   "nbconvert_exporter": "python",
   "pygments_lexer": "ipython3",
   "version": "3.9.16"
  },
  "orig_nbformat": 4,
  "vscode": {
   "interpreter": {
    "hash": "f784ea2d9f9e1492e7a003b60b0d9e5d53a485f0524ecaec7133681c1503c906"
   }
  }
 },
 "nbformat": 4,
 "nbformat_minor": 2
}
